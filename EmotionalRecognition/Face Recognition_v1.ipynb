{
 "cells": [
  {
   "cell_type": "code",
   "execution_count": 1,
   "id": "1dfc168f",
   "metadata": {},
   "outputs": [],
   "source": [
    "import cv2\n",
    "import numpy as np\n",
    "import face_recognition as fr"
   ]
  },
  {
   "cell_type": "code",
   "execution_count": 2,
   "id": "382f73fb",
   "metadata": {},
   "outputs": [],
   "source": [
    "video_capture = cv2.VideoCapture(0)"
   ]
  },
  {
   "cell_type": "code",
   "execution_count": 3,
   "id": "2d7c9eb7",
   "metadata": {},
   "outputs": [],
   "source": [
    "image = fr.load_image_file('dataset/boy.jpg')"
   ]
  },
  {
   "cell_type": "code",
   "execution_count": 4,
   "id": "3093ae0f",
   "metadata": {},
   "outputs": [],
   "source": [
    "image_face_encoding = fr.face_encodings(image)[0]"
   ]
  },
  {
   "cell_type": "code",
   "execution_count": 5,
   "id": "7f074dfa",
   "metadata": {},
   "outputs": [],
   "source": [
    "known_face_encodings = [image_face_encoding]"
   ]
  },
  {
   "cell_type": "code",
   "execution_count": 6,
   "id": "7bcf22e0",
   "metadata": {},
   "outputs": [],
   "source": [
    "known_face_names = ['Mikey']"
   ]
  },
  {
   "cell_type": "code",
   "execution_count": 7,
   "id": "fa3a3618",
   "metadata": {},
   "outputs": [
    {
     "ename": "TypeError",
     "evalue": "compute_face_descriptor(): incompatible function arguments. The following argument types are supported:\n    1. (self: _dlib_pybind11.face_recognition_model_v1, img: numpy.ndarray[(rows,cols,3),numpy.uint8], face: _dlib_pybind11.full_object_detection, num_jitters: int = 0, padding: float = 0.25) -> _dlib_pybind11.vector\n    2. (self: _dlib_pybind11.face_recognition_model_v1, img: numpy.ndarray[(rows,cols,3),numpy.uint8], num_jitters: int = 0) -> _dlib_pybind11.vector\n    3. (self: _dlib_pybind11.face_recognition_model_v1, img: numpy.ndarray[(rows,cols,3),numpy.uint8], faces: _dlib_pybind11.full_object_detections, num_jitters: int = 0, padding: float = 0.25) -> _dlib_pybind11.vectors\n    4. (self: _dlib_pybind11.face_recognition_model_v1, batch_img: List[numpy.ndarray[(rows,cols,3),numpy.uint8]], batch_faces: List[_dlib_pybind11.full_object_detections], num_jitters: int = 0, padding: float = 0.25) -> _dlib_pybind11.vectorss\n    5. (self: _dlib_pybind11.face_recognition_model_v1, batch_img: List[numpy.ndarray[(rows,cols,3),numpy.uint8]], num_jitters: int = 0) -> _dlib_pybind11.vectors\n\nInvoked with: <_dlib_pybind11.face_recognition_model_v1 object at 0x7fe2311dc370>, array([[[ 30,  44,  42],\n        [ 33,  48,  45],\n        [ 38,  47,  48],\n        ...,\n        [ 52,  75,  58],\n        [ 48,  76,  53],\n        [ 49,  78,  54]],\n\n       [[ 28,  45,  42],\n        [ 31,  47,  44],\n        [ 33,  48,  45],\n        ...,\n        [ 52,  74,  62],\n        [ 50,  76,  58],\n        [ 50,  76,  58]],\n\n       [[ 28,  45,  42],\n        [ 30,  46,  43],\n        [ 32,  46,  44],\n        ...,\n        [ 49,  74,  61],\n        [ 49,  75,  57],\n        [ 50,  76,  58]],\n\n       ...,\n\n       [[ 54,  65,  66],\n        [ 64,  75,  76],\n        [ 69,  85,  84],\n        ...,\n        [ 82, 115, 113],\n        [ 98, 130, 126],\n        [107, 139, 135]],\n\n       [[ 54,  68,  68],\n        [ 63,  76,  76],\n        [ 69,  85,  84],\n        ...,\n        [ 86, 118, 118],\n        [105, 137, 135],\n        [110, 143, 141]],\n\n       [[ 59,  73,  73],\n        [ 64,  77,  77],\n        [ 70,  86,  86],\n        ...,\n        [ 89, 121, 124],\n        [108, 140, 138],\n        [112, 144, 142]]], dtype=uint8), <_dlib_pybind11.full_object_detection object at 0x7fe2311d7970>, 1",
     "output_type": "error",
     "traceback": [
      "\u001b[0;31m---------------------------------------------------------------------------\u001b[0m",
      "\u001b[0;31mTypeError\u001b[0m                                 Traceback (most recent call last)",
      "\u001b[0;32m/tmp/ipykernel_71372/1446068951.py\u001b[0m in \u001b[0;36m<module>\u001b[0;34m\u001b[0m\n\u001b[1;32m      6\u001b[0m \u001b[0;34m\u001b[0m\u001b[0m\n\u001b[1;32m      7\u001b[0m     \u001b[0mfc_locations\u001b[0m \u001b[0;34m=\u001b[0m \u001b[0mfr\u001b[0m\u001b[0;34m.\u001b[0m\u001b[0mface_locations\u001b[0m\u001b[0;34m(\u001b[0m\u001b[0mrgb_frame\u001b[0m\u001b[0;34m)\u001b[0m \u001b[0;31m#fc means face\u001b[0m\u001b[0;34m\u001b[0m\u001b[0;34m\u001b[0m\u001b[0m\n\u001b[0;32m----> 8\u001b[0;31m     \u001b[0mfc_encodings\u001b[0m \u001b[0;34m=\u001b[0m \u001b[0mfr\u001b[0m\u001b[0;34m.\u001b[0m\u001b[0mface_encodings\u001b[0m\u001b[0;34m(\u001b[0m\u001b[0mrgb_frame\u001b[0m\u001b[0;34m,\u001b[0m \u001b[0mfc_locations\u001b[0m\u001b[0;34m)\u001b[0m\u001b[0;34m\u001b[0m\u001b[0;34m\u001b[0m\u001b[0m\n\u001b[0m\u001b[1;32m      9\u001b[0m \u001b[0;34m\u001b[0m\u001b[0m\n\u001b[1;32m     10\u001b[0m     \u001b[0;32mfor\u001b[0m\u001b[0;34m(\u001b[0m\u001b[0mtop\u001b[0m\u001b[0;34m,\u001b[0m \u001b[0mright\u001b[0m\u001b[0;34m,\u001b[0m \u001b[0mbottom\u001b[0m\u001b[0;34m,\u001b[0m \u001b[0mleft\u001b[0m\u001b[0;34m)\u001b[0m\u001b[0;34m,\u001b[0m \u001b[0mface_encoding\u001b[0m \u001b[0;32min\u001b[0m \u001b[0mzip\u001b[0m\u001b[0;34m(\u001b[0m\u001b[0mfc_locations\u001b[0m\u001b[0;34m,\u001b[0m \u001b[0mfc_encodings\u001b[0m\u001b[0;34m)\u001b[0m\u001b[0;34m:\u001b[0m\u001b[0;34m\u001b[0m\u001b[0;34m\u001b[0m\u001b[0m\n",
      "\u001b[0;32m~/.local/lib/python3.10/site-packages/face_recognition/api.py\u001b[0m in \u001b[0;36mface_encodings\u001b[0;34m(face_image, known_face_locations, num_jitters, model)\u001b[0m\n\u001b[1;32m    212\u001b[0m     \"\"\"\n\u001b[1;32m    213\u001b[0m     \u001b[0mraw_landmarks\u001b[0m \u001b[0;34m=\u001b[0m \u001b[0m_raw_face_landmarks\u001b[0m\u001b[0;34m(\u001b[0m\u001b[0mface_image\u001b[0m\u001b[0;34m,\u001b[0m \u001b[0mknown_face_locations\u001b[0m\u001b[0;34m,\u001b[0m \u001b[0mmodel\u001b[0m\u001b[0;34m)\u001b[0m\u001b[0;34m\u001b[0m\u001b[0;34m\u001b[0m\u001b[0m\n\u001b[0;32m--> 214\u001b[0;31m     \u001b[0;32mreturn\u001b[0m \u001b[0;34m[\u001b[0m\u001b[0mnp\u001b[0m\u001b[0;34m.\u001b[0m\u001b[0marray\u001b[0m\u001b[0;34m(\u001b[0m\u001b[0mface_encoder\u001b[0m\u001b[0;34m.\u001b[0m\u001b[0mcompute_face_descriptor\u001b[0m\u001b[0;34m(\u001b[0m\u001b[0mface_image\u001b[0m\u001b[0;34m,\u001b[0m \u001b[0mraw_landmark_set\u001b[0m\u001b[0;34m,\u001b[0m \u001b[0mnum_jitters\u001b[0m\u001b[0;34m)\u001b[0m\u001b[0;34m)\u001b[0m \u001b[0;32mfor\u001b[0m \u001b[0mraw_landmark_set\u001b[0m \u001b[0;32min\u001b[0m \u001b[0mraw_landmarks\u001b[0m\u001b[0;34m]\u001b[0m\u001b[0;34m\u001b[0m\u001b[0;34m\u001b[0m\u001b[0m\n\u001b[0m\u001b[1;32m    215\u001b[0m \u001b[0;34m\u001b[0m\u001b[0m\n\u001b[1;32m    216\u001b[0m \u001b[0;34m\u001b[0m\u001b[0m\n",
      "\u001b[0;32m~/.local/lib/python3.10/site-packages/face_recognition/api.py\u001b[0m in \u001b[0;36m<listcomp>\u001b[0;34m(.0)\u001b[0m\n\u001b[1;32m    212\u001b[0m     \"\"\"\n\u001b[1;32m    213\u001b[0m     \u001b[0mraw_landmarks\u001b[0m \u001b[0;34m=\u001b[0m \u001b[0m_raw_face_landmarks\u001b[0m\u001b[0;34m(\u001b[0m\u001b[0mface_image\u001b[0m\u001b[0;34m,\u001b[0m \u001b[0mknown_face_locations\u001b[0m\u001b[0;34m,\u001b[0m \u001b[0mmodel\u001b[0m\u001b[0;34m)\u001b[0m\u001b[0;34m\u001b[0m\u001b[0;34m\u001b[0m\u001b[0m\n\u001b[0;32m--> 214\u001b[0;31m     \u001b[0;32mreturn\u001b[0m \u001b[0;34m[\u001b[0m\u001b[0mnp\u001b[0m\u001b[0;34m.\u001b[0m\u001b[0marray\u001b[0m\u001b[0;34m(\u001b[0m\u001b[0mface_encoder\u001b[0m\u001b[0;34m.\u001b[0m\u001b[0mcompute_face_descriptor\u001b[0m\u001b[0;34m(\u001b[0m\u001b[0mface_image\u001b[0m\u001b[0;34m,\u001b[0m \u001b[0mraw_landmark_set\u001b[0m\u001b[0;34m,\u001b[0m \u001b[0mnum_jitters\u001b[0m\u001b[0;34m)\u001b[0m\u001b[0;34m)\u001b[0m \u001b[0;32mfor\u001b[0m \u001b[0mraw_landmark_set\u001b[0m \u001b[0;32min\u001b[0m \u001b[0mraw_landmarks\u001b[0m\u001b[0;34m]\u001b[0m\u001b[0;34m\u001b[0m\u001b[0;34m\u001b[0m\u001b[0m\n\u001b[0m\u001b[1;32m    215\u001b[0m \u001b[0;34m\u001b[0m\u001b[0m\n\u001b[1;32m    216\u001b[0m \u001b[0;34m\u001b[0m\u001b[0m\n",
      "\u001b[0;31mTypeError\u001b[0m: compute_face_descriptor(): incompatible function arguments. The following argument types are supported:\n    1. (self: _dlib_pybind11.face_recognition_model_v1, img: numpy.ndarray[(rows,cols,3),numpy.uint8], face: _dlib_pybind11.full_object_detection, num_jitters: int = 0, padding: float = 0.25) -> _dlib_pybind11.vector\n    2. (self: _dlib_pybind11.face_recognition_model_v1, img: numpy.ndarray[(rows,cols,3),numpy.uint8], num_jitters: int = 0) -> _dlib_pybind11.vector\n    3. (self: _dlib_pybind11.face_recognition_model_v1, img: numpy.ndarray[(rows,cols,3),numpy.uint8], faces: _dlib_pybind11.full_object_detections, num_jitters: int = 0, padding: float = 0.25) -> _dlib_pybind11.vectors\n    4. (self: _dlib_pybind11.face_recognition_model_v1, batch_img: List[numpy.ndarray[(rows,cols,3),numpy.uint8]], batch_faces: List[_dlib_pybind11.full_object_detections], num_jitters: int = 0, padding: float = 0.25) -> _dlib_pybind11.vectorss\n    5. (self: _dlib_pybind11.face_recognition_model_v1, batch_img: List[numpy.ndarray[(rows,cols,3),numpy.uint8]], num_jitters: int = 0) -> _dlib_pybind11.vectors\n\nInvoked with: <_dlib_pybind11.face_recognition_model_v1 object at 0x7fe2311dc370>, array([[[ 30,  44,  42],\n        [ 33,  48,  45],\n        [ 38,  47,  48],\n        ...,\n        [ 52,  75,  58],\n        [ 48,  76,  53],\n        [ 49,  78,  54]],\n\n       [[ 28,  45,  42],\n        [ 31,  47,  44],\n        [ 33,  48,  45],\n        ...,\n        [ 52,  74,  62],\n        [ 50,  76,  58],\n        [ 50,  76,  58]],\n\n       [[ 28,  45,  42],\n        [ 30,  46,  43],\n        [ 32,  46,  44],\n        ...,\n        [ 49,  74,  61],\n        [ 49,  75,  57],\n        [ 50,  76,  58]],\n\n       ...,\n\n       [[ 54,  65,  66],\n        [ 64,  75,  76],\n        [ 69,  85,  84],\n        ...,\n        [ 82, 115, 113],\n        [ 98, 130, 126],\n        [107, 139, 135]],\n\n       [[ 54,  68,  68],\n        [ 63,  76,  76],\n        [ 69,  85,  84],\n        ...,\n        [ 86, 118, 118],\n        [105, 137, 135],\n        [110, 143, 141]],\n\n       [[ 59,  73,  73],\n        [ 64,  77,  77],\n        [ 70,  86,  86],\n        ...,\n        [ 89, 121, 124],\n        [108, 140, 138],\n        [112, 144, 142]]], dtype=uint8), <_dlib_pybind11.full_object_detection object at 0x7fe2311d7970>, 1"
     ]
    }
   ],
   "source": [
    "while True:\n",
    "    \n",
    "    ret, frame = video_capture.read() #ret is boolean for frame\n",
    "    \n",
    "    rgb_frame = frame[:, :, ::-1]\n",
    "    \n",
    "    fc_locations = fr.face_locations(rgb_frame) #fc means face\n",
    "    fc_encodings = fr.face_encodings(rgb_frame, fc_locations)\n",
    "    \n",
    "    for(top, right, bottom, left), face_encoding in zip(fc_locations, fc_encodings):\n",
    "        \n",
    "        matches = fr.compare_faces(known_faces_encodings, face_encoding)         #compare faces\n",
    "\n",
    "\n",
    "        name = \"unknown\"\n",
    "        \n",
    "        fc_distances = fr.face_distances(known_face_encodings, face_encoding)\n",
    "        \n",
    "        match_index = np.argmin(fc_distances) #minimum area\n",
    "        \n",
    "        if matches[match_index]:\n",
    "            name = known_face_names[match_index]\n",
    "            \n",
    "        cv2.rectangle(frame, (left, top), (right, bottom), (0,0,255), 2)\n",
    "        \n",
    "        cv2.rectangle(frame, (left, bottom -35), (right, bottom), (0,0,255), cv2.FILLED)\n",
    "        \n",
    "        font = cv2.FONT_HERSHEY_SIMPLEX #Normal size\n",
    "        \n",
    "        \n",
    "        cv2.putText(frame, name, (left + 6, bottom - 6), font, 1.0, (255, 255, 255), 1)\n",
    "        \n",
    "    cv2.imshow('Simplilearn face detection system', frame) #Show us window\n",
    "    \n",
    "    if cv2.waitKey(1) & 0xFF == ord('q'):\n",
    "        break\n",
    "        \n",
    "video_capture.release()\n",
    "cv2.destroyAllWindows()\n",
    "        \n",
    "        \n",
    "        \n",
    "        \n",
    "        \n",
    "        \n",
    "        "
   ]
  },
  {
   "cell_type": "code",
   "execution_count": null,
   "id": "199052cc",
   "metadata": {},
   "outputs": [],
   "source": []
  }
 ],
 "metadata": {
  "kernelspec": {
   "display_name": "Python 3 (ipykernel)",
   "language": "python",
   "name": "python3"
  },
  "language_info": {
   "codemirror_mode": {
    "name": "ipython",
    "version": 3
   },
   "file_extension": ".py",
   "mimetype": "text/x-python",
   "name": "python",
   "nbconvert_exporter": "python",
   "pygments_lexer": "ipython3",
   "version": "3.10.12"
  }
 },
 "nbformat": 4,
 "nbformat_minor": 5
}
